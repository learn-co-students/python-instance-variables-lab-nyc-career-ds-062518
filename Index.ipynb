{
 "cells": [
  {
   "cell_type": "markdown",
   "metadata": {},
   "source": [
    "# Practice with Instance Variables"
   ]
  },
  {
   "cell_type": "markdown",
   "metadata": {},
   "source": [
    "## Introduction\n",
    "In this lab, we will practice using instance variables, and continue with our awesome `fuber` theme. In this directory, we have a couple files already provided for us, driver.py and passenger.py. We will use these to define our classes and instance methods."
   ]
  },
  {
   "cell_type": "markdown",
   "metadata": {},
   "source": [
    "## Objectives\n",
    "\n",
    "* Define instance variables.\n",
    "* Describe how instance variables give objects attributes and properties."
   ]
  },
  {
   "cell_type": "markdown",
   "metadata": {},
   "source": [
    "## Defining Instance Variables"
   ]
  },
  {
   "cell_type": "markdown",
   "metadata": {},
   "source": [
    "We have been writing functions and working with variables for a while now. We've talked about the difference between global variables and local variables. However, classes add another level of complexity with instance variables. Remember the difference between local and global variables is their scope. Local varibles have local or function scope, that is that they are only able to be accessed inside the function in which they are defined. Global variables can be accessed from anywhere in the file. Below is an example to jog your memory, if this is a little confusing:  "
   ]
  },
  {
   "cell_type": "code",
   "execution_count": 1,
   "metadata": {},
   "outputs": [
    {
     "name": "stdout",
     "output_type": "stream",
     "text": [
      "jake\n",
      "terrance\n"
     ]
    },
    {
     "ename": "NameError",
     "evalue": "name 'other_name' is not defined",
     "output_type": "error",
     "traceback": [
      "\u001b[0;31m---------------------------------------------------------------------------\u001b[0m",
      "\u001b[0;31mNameError\u001b[0m                                 Traceback (most recent call last)",
      "\u001b[0;32m<ipython-input-1-b482d184f7ce>\u001b[0m in \u001b[0;36m<module>\u001b[0;34m()\u001b[0m\n\u001b[1;32m      6\u001b[0m \u001b[0mexample_function\u001b[0m\u001b[0;34m(\u001b[0m\u001b[0;34m)\u001b[0m \u001b[0;31m# executing fuction with local variable\u001b[0m\u001b[0;34m\u001b[0m\u001b[0m\n\u001b[1;32m      7\u001b[0m \u001b[0mprint\u001b[0m\u001b[0;34m(\u001b[0m\u001b[0mname\u001b[0m\u001b[0;34m)\u001b[0m \u001b[0;31m# printing global variable\u001b[0m\u001b[0;34m\u001b[0m\u001b[0m\n\u001b[0;32m----> 8\u001b[0;31m \u001b[0mprint\u001b[0m\u001b[0;34m(\u001b[0m\u001b[0mother_name\u001b[0m\u001b[0;34m)\u001b[0m \u001b[0;31m# printing local variable\u001b[0m\u001b[0;34m\u001b[0m\u001b[0m\n\u001b[0m",
      "\u001b[0;31mNameError\u001b[0m: name 'other_name' is not defined"
     ]
    }
   ],
   "source": [
    "name = \"terrance\" # global variable\n",
    "def example_function():\n",
    "    other_name = \"jake\" # local variable\n",
    "    print(other_name)\n",
    "\n",
    "example_function() # executing fuction with local variable\n",
    "print(name) # printing global variable\n",
    "#print(other_name) # printing local variable"
   ]
  },
  {
   "cell_type": "markdown",
   "metadata": {},
   "source": [
    "Again, our local variable is bound to its local or function scope, so when we try to print its value outside of the function it is undefined. This brings us to instance variables. They act similarly in that they are bound to their instance. This means we define instance variables **on** instance objects. These instance variables are then only accessible through the instance on which they were defined.\n",
    "\n",
    "The following is an example of adding an instance variable to an instance object and then accessing it later. Don't worry if it is confusing right now, the rest of this lesson will clear things up."
   ]
  },
  {
   "cell_type": "code",
   "execution_count": 2,
   "metadata": {},
   "outputs": [
    {
     "name": "stdout",
     "output_type": "stream",
     "text": [
      "terrance\n"
     ]
    },
    {
     "ename": "NameError",
     "evalue": "name 'first_name' is not defined",
     "output_type": "error",
     "traceback": [
      "\u001b[0;31m---------------------------------------------------------------------------\u001b[0m",
      "\u001b[0;31mNameError\u001b[0m                                 Traceback (most recent call last)",
      "\u001b[0;32m<ipython-input-2-db59ca215ce5>\u001b[0m in \u001b[0;36m<module>\u001b[0;34m()\u001b[0m\n\u001b[1;32m      5\u001b[0m \u001b[0mterrance\u001b[0m\u001b[0;34m.\u001b[0m\u001b[0mfirst_name\u001b[0m \u001b[0;34m=\u001b[0m \u001b[0;34m\"terrance\"\u001b[0m \u001b[0;31m# adding an instance variable, first_name to the instance\u001b[0m\u001b[0;34m\u001b[0m\u001b[0m\n\u001b[1;32m      6\u001b[0m \u001b[0mprint\u001b[0m\u001b[0;34m(\u001b[0m\u001b[0mterrance\u001b[0m\u001b[0;34m.\u001b[0m\u001b[0mfirst_name\u001b[0m\u001b[0;34m)\u001b[0m \u001b[0;31m# printing instance variable accessed from the instance\u001b[0m\u001b[0;34m\u001b[0m\u001b[0m\n\u001b[0;32m----> 7\u001b[0;31m \u001b[0mprint\u001b[0m\u001b[0;34m(\u001b[0m\u001b[0mfirst_name\u001b[0m\u001b[0;34m)\u001b[0m \u001b[0;31m# undefined since it is not being accessed from the instance\u001b[0m\u001b[0;34m\u001b[0m\u001b[0m\n\u001b[0m",
      "\u001b[0;31mNameError\u001b[0m: name 'first_name' is not defined"
     ]
    }
   ],
   "source": [
    "class Person:\n",
    "    pass\n",
    "\n",
    "terrance = Person() # instantiating instance object from Person class called 'terrance'\n",
    "terrance.first_name = \"terrance\" # adding an instance variable, first_name to the instance\n",
    "print(terrance.first_name) # printing instance variable accessed from the instance\n",
    "#print(first_name) # undefined since it is not being accessed from the instance"
   ]
  },
  {
   "cell_type": "markdown",
   "metadata": {},
   "source": [
    "## Okay, But Why Do We Need Instance Variables?\n",
    "\n",
    "Let's imagine we have two drivers. We instantiate them as instances of the `ExampleDriver` class and assign them to variables, `driver_one` and `driver_two`. Let's see this:"
   ]
  },
  {
   "cell_type": "code",
   "execution_count": 3,
   "metadata": {},
   "outputs": [
    {
     "name": "stdout",
     "output_type": "stream",
     "text": [
      "<__main__.ExampleDriver object at 0x1069ab320>\n",
      "<__main__.ExampleDriver object at 0x1069ab358>\n"
     ]
    }
   ],
   "source": [
    "class ExampleDriver:\n",
    "    pass\n",
    "    \n",
    "driver_one = ExampleDriver()\n",
    "driver_two = ExampleDriver()\n",
    "print(driver_one)\n",
    "print(driver_two)"
   ]
  },
  {
   "cell_type": "markdown",
   "metadata": {},
   "source": [
    "Notice anything? Pretty hard to tell who is who... How can we fix this? We could probably give them names, right? Well, how do we assign a name to these instances?\n",
    "\n",
    "That's where instance variables come in. Instance variables can be thought of as an attribute on an object. So, if we want our instance objects to have a `name` attribute, we simply need to add it to the object."
   ]
  },
  {
   "cell_type": "code",
   "execution_count": 4,
   "metadata": {},
   "outputs": [
    {
     "name": "stdout",
     "output_type": "stream",
     "text": [
      "alex\n"
     ]
    }
   ],
   "source": [
    "driver_one.name = 'alex'\n",
    "print(driver_one.name)"
   ]
  },
  {
   "cell_type": "markdown",
   "metadata": {},
   "source": [
    "Great! We have made our first instance variable and we can now start to differentiate our instance objects and make them a bit more interesting. To reiterate, adding an attribute like `name` to an instance object is done by simply using the following syntax: `variable-dot-attribute = value`. Let's add driver_two's name now, let's name them 'julian'."
   ]
  },
  {
   "cell_type": "code",
   "execution_count": 5,
   "metadata": {},
   "outputs": [],
   "source": [
    "driver_two.name= 'julian'"
   ]
  },
  {
   "cell_type": "markdown",
   "metadata": {},
   "source": [
    "Now, we can imagine wanting to add many instance variables to these instance objects which would make them quite complex. We will want a way to look at the instance variables -- similar to how we want to be able to look at the keys in a dictionary. Luckily for us, there is a method that shows us just that! \n",
    "\n",
    "`vars` is a method that returns a dictionary containing the keys and values that represent the instance variable names and values of an instance object. Let's see it in action:"
   ]
  },
  {
   "cell_type": "markdown",
   "metadata": {},
   "source": [
    "> **Note:** instance variables and instance methods both can be referred to as `attributes` of an instance object. "
   ]
  },
  {
   "cell_type": "code",
   "execution_count": 6,
   "metadata": {},
   "outputs": [
    {
     "data": {
      "text/plain": [
       "{'name': 'julian'}"
      ]
     },
     "execution_count": 6,
     "metadata": {},
     "output_type": "execute_result"
    }
   ],
   "source": [
    "vars(driver_two)"
   ]
  },
  {
   "cell_type": "markdown",
   "metadata": {},
   "source": [
    "Since `vars` returns a dictionary, we can even go a step further and just look at the attributes without their associated values by calling the `keys` method."
   ]
  },
  {
   "cell_type": "code",
   "execution_count": 7,
   "metadata": {
    "scrolled": true
   },
   "outputs": [
    {
     "data": {
      "text/plain": [
       "dict_keys(['name'])"
      ]
     },
     "execution_count": 7,
     "metadata": {},
     "output_type": "execute_result"
    }
   ],
   "source": [
    "vars(driver_two).keys()"
   ]
  },
  {
   "cell_type": "markdown",
   "metadata": {},
   "source": [
    "Awesome! As the note above states, instance variables aren't the only attribute. Our instance methods are also attributes, so, let's see again how we make those:"
   ]
  },
  {
   "cell_type": "code",
   "execution_count": 8,
   "metadata": {},
   "outputs": [
    {
     "name": "stdout",
     "output_type": "stream",
     "text": [
      "Hi! How are you today?\n"
     ]
    }
   ],
   "source": [
    "class Person:\n",
    "    def say_hello(self):\n",
    "        print(\"Hi! How are you today?\")\n",
    "        \n",
    "jeff = Person()\n",
    "jeff.say_hello()"
   ]
  },
  {
   "cell_type": "markdown",
   "metadata": {},
   "source": [
    "So, as we can see instance variables and instance methods look very similar syntactically. In fact, the main difference between the two is that instance methods are callable attributes on an instance object and instance variables are not callable. This makes sense since instance methods have a block of code to execute and instance variables do not. "
   ]
  },
  {
   "cell_type": "markdown",
   "metadata": {},
   "source": [
    "Remember how we said that there were a couple files provided for us? Let's put them to use and define both a Driver and a Passenger class -- for now just define the classes and remember to include the keyword `pass`. Below we'll import them and load the `autoreload` extension from IPython."
   ]
  },
  {
   "cell_type": "code",
   "execution_count": 27,
   "metadata": {},
   "outputs": [
    {
     "name": "stdout",
     "output_type": "stream",
     "text": [
      "The autoreload extension is already loaded. To reload it, use:\n",
      "  %reload_ext autoreload\n"
     ]
    }
   ],
   "source": [
    "#load_ext autoreload\n",
    "#autoreload 2"
   ]
  },
  {
   "cell_type": "code",
   "execution_count": 28,
   "metadata": {},
   "outputs": [],
   "source": [
    "from driver import Driver\n",
    "from passenger import Passenger"
   ]
  },
  {
   "cell_type": "markdown",
   "metadata": {},
   "source": [
    "Now let's instantiate a new instance of a passenger and a new instance of a driver. Give the passenger a `rating` of `4.9` and give the driver a `miles_driven` attribute of `100,000`."
   ]
  },
  {
   "cell_type": "code",
   "execution_count": 29,
   "metadata": {},
   "outputs": [],
   "source": [
    "driver = Driver()\n",
    "driver.miles_driven = 100000\n",
    "# give the driver instance object 'miles_driven' of 100000\n",
    "passenger = Passenger()\n",
    "passenger.rating = 4.9\n",
    "# assign the passenger instance\n",
    "# give the passenger instance object a 'rating' of 4.9"
   ]
  },
  {
   "cell_type": "markdown",
   "metadata": {},
   "source": [
    "Say we wanted to find a driver with a given name -- how would we do that? Let's take a look at how we could write a function that would take in a list of instance objects and return the one with the desired name."
   ]
  },
  {
   "cell_type": "code",
   "execution_count": 30,
   "metadata": {},
   "outputs": [],
   "source": [
    "def find_driver_by_name(list_drivers, name):\n",
    "    for driver in list_drivers:\n",
    "        if driver.name == name:\n",
    "            return driver\n",
    "    return \"Sorry we couldn't find a driver with the name, {}! :(\".format('allison')"
   ]
  },
  {
   "cell_type": "code",
   "execution_count": 31,
   "metadata": {},
   "outputs": [
    {
     "name": "stdout",
     "output_type": "stream",
     "text": [
      "<driver.Driver object at 0x1069eebe0>\n",
      "<driver.Driver object at 0x1069eeba8>\n",
      "Sorry we couldn't find a driver with the name, allison! :(\n"
     ]
    }
   ],
   "source": [
    "alex_driver = Driver()\n",
    "alex_driver.name = \"alex\"\n",
    "michelle_driver = Driver()\n",
    "michelle_driver.name = \"michelle\"\n",
    "jake_driver = Driver()\n",
    "jake_driver.name = \"jake\"\n",
    "ashleigh_driver = Driver()\n",
    "ashleigh_driver.name = \"ashleigh\"\n",
    "list_of_drivers = [alex_driver, michelle_driver, jake_driver, ashleigh_driver]\n",
    "print(find_driver_by_name(list_of_drivers, \"jake\"))\n",
    "print(find_driver_by_name(list_of_drivers, \"michelle\"))\n",
    "print(find_driver_by_name(list_of_drivers, \"allison\"))"
   ]
  },
  {
   "cell_type": "markdown",
   "metadata": {},
   "source": [
    "Cool! That looks like it worked. We can see that the method returns the Driver instance object when it finds an instance with the given name and returns a message saying that driver does not exist, if it cannot find a driver with that name. Now try writing a method that will return a list of instance objects that start with the letter `a`."
   ]
  },
  {
   "cell_type": "code",
   "execution_count": 32,
   "metadata": {},
   "outputs": [],
   "source": [
    "# write your method here that returns the list of \n",
    "# drivers whose name starts which the letter 'a'\n",
    "def find_driver_with_letter_a (list_driver,name):\n",
    "    for driver in list_drivers:\n",
    "        if driver.name.startswith(a):\n",
    "            return driver\n"
   ]
  },
  {
   "cell_type": "markdown",
   "metadata": {},
   "source": [
    "## Summary\n",
    "In this lesson we saw how to define instance variables and saw how to use them in order to give our instance objects attributes and added complexity. We then saw how to define instance methods and call them on our instance objects. "
   ]
  },
  {
   "cell_type": "markdown",
   "metadata": {},
   "source": [
    "## Bonus"
   ]
  },
  {
   "cell_type": "markdown",
   "metadata": {},
   "source": [
    "Okay, now let's work on creating more complex instance objects. Let's make a driver, `best_driver`, that has the attributes `name`, `car_make`, `car_model`, `age`, and `passengers`. The `passengers` attribute will point to a list of rider instances. The list of riders is already provided for you below:"
   ]
  },
  {
   "cell_type": "code",
   "execution_count": 33,
   "metadata": {},
   "outputs": [],
   "source": [
    "alex_passenger = Passenger()\n",
    "alex_passenger.name = \"alex\"\n",
    "michelle_passenger = Passenger()\n",
    "michelle_passenger.name = \"michelle\"\n",
    "jake_passenger = Passenger()\n",
    "jake_passenger.name = \"jake\"\n",
    "ashleigh_passenger = Passenger()\n",
    "ashleigh_passenger.name = \"ashleigh\"\n",
    "list_of_passengers: [alex_passenger, michelle_passenger, jake_passenger, ashleigh_passenger]"
   ]
  },
  {
   "cell_type": "code",
   "execution_count": 41,
   "metadata": {},
   "outputs": [],
   "source": [
    "best_driver = Driver() # instantiate a driver\n",
    "best_driver.name = \"Garol\"\n",
    "# add the name attribute and assign it 'Garol'\n",
    "best_driver.car_make= 'toyota'\n",
    "# add the car_make attribute and assign it 'toyota'\n",
    "best_driver.car_model = 'camry'\n",
    "# add the car_model attribute and assign it 'camry'\n",
    "best_driver.age = '30'\n",
    "# add the age attribute and assign it '30'\n",
    "best_driver.passenger_names= [alex_passenger, michelle_passenger, jake_passenger, ashleigh_passenger]\n",
    "# add the passengers attribute and assign it to the list_of_passengers"
   ]
  },
  {
   "cell_type": "markdown",
   "metadata": {},
   "source": [
    "Alright, great! Now we have some attributes on our driver that we can work with. Let's create an instance method in the Driver class called `passenger_names` which returns a list of all the passengers' names that a driver has driven (i.e. a driver's `passengers`). \n",
    "Your output should look like `['alex', 'michelle', 'jake', 'ashleigh']`."
   ]
  },
  {
   "cell_type": "code",
   "execution_count": 42,
   "metadata": {},
   "outputs": [],
   "source": [
    "names_of_passengers = best_driver.passenger_names # assign the return of best_driver.passenger_names()"
   ]
  },
  {
   "cell_type": "markdown",
   "metadata": {},
   "source": [
    "If you would like to see a more formatted list, try calling the method below on the best_driver instance:"
   ]
  },
  {
   "cell_type": "code",
   "execution_count": 45,
   "metadata": {},
   "outputs": [
    {
     "name": "stdout",
     "output_type": "stream",
     "text": [
      "1. <passenger.Passenger object at 0x1069ee3c8>\n",
      "2. <passenger.Passenger object at 0x1069ee6a0>\n",
      "3. <passenger.Passenger object at 0x1069ee5c0>\n",
      "4. <passenger.Passenger object at 0x1069ee710>\n"
     ]
    }
   ],
   "source": [
    "def display_names(list_of_names):\n",
    "    i = 1\n",
    "    for name in list_of_names:\n",
    "        print(\"{}. {}\".format(i, name))\n",
    "        i += 1\n",
    "display_names(names_of_passengers)\n",
    "# call display_names with your list of passenger names"
   ]
  },
  {
   "cell_type": "markdown",
   "metadata": {},
   "source": [
    "Neat -- great work! "
   ]
  }
 ],
 "metadata": {
  "kernelspec": {
   "display_name": "Python 3",
   "language": "python",
   "name": "python3"
  },
  "language_info": {
   "codemirror_mode": {
    "name": "ipython",
    "version": 3
   },
   "file_extension": ".py",
   "mimetype": "text/x-python",
   "name": "python",
   "nbconvert_exporter": "python",
   "pygments_lexer": "ipython3",
   "version": "3.6.5"
  }
 },
 "nbformat": 4,
 "nbformat_minor": 2
}
